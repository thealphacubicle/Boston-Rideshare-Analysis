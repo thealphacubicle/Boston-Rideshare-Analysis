{
 "cells": [
  {
   "cell_type": "markdown",
   "id": "2a10b098",
   "metadata": {},
   "source": [
    "# Analyzing Boston's Rideshare Data"
   ]
  },
  {
   "cell_type": "code",
   "execution_count": 1,
   "id": "7898ba0c",
   "metadata": {},
   "outputs": [],
   "source": [
    "# General imports\n",
    "import pandas as pd\n",
    "import matplotlib.pyplot as plt\n",
    "import seaborn as sns\n",
    "import numpy as np\n",
    "\n",
    "# Data pipeline imports\n",
    "from sklearn import set_config\n",
    "from sklearn.pipeline import Pipeline\n",
    "from sklearn.impute import SimpleImputer\n",
    "from sklearn.preprocessing import LabelEncoder\n",
    "from sklearn.compose import ColumnTransformer"
   ]
  },
  {
   "cell_type": "markdown",
   "id": "17167907",
   "metadata": {},
   "source": [
    "# Load Data Set"
   ]
  },
  {
   "cell_type": "code",
   "execution_count": 2,
   "id": "c7eb3f1b",
   "metadata": {},
   "outputs": [
    {
     "data": {
      "text/html": [
       "<div>\n",
       "<style scoped>\n",
       "    .dataframe tbody tr th:only-of-type {\n",
       "        vertical-align: middle;\n",
       "    }\n",
       "\n",
       "    .dataframe tbody tr th {\n",
       "        vertical-align: top;\n",
       "    }\n",
       "\n",
       "    .dataframe thead th {\n",
       "        text-align: right;\n",
       "    }\n",
       "</style>\n",
       "<table border=\"1\" class=\"dataframe\">\n",
       "  <thead>\n",
       "    <tr style=\"text-align: right;\">\n",
       "      <th></th>\n",
       "      <th>id</th>\n",
       "      <th>timestamp</th>\n",
       "      <th>hour</th>\n",
       "      <th>day</th>\n",
       "      <th>month</th>\n",
       "      <th>datetime</th>\n",
       "      <th>timezone</th>\n",
       "      <th>source</th>\n",
       "      <th>destination</th>\n",
       "      <th>cab_type</th>\n",
       "      <th>...</th>\n",
       "      <th>precipIntensityMax</th>\n",
       "      <th>uvIndexTime</th>\n",
       "      <th>temperatureMin</th>\n",
       "      <th>temperatureMinTime</th>\n",
       "      <th>temperatureMax</th>\n",
       "      <th>temperatureMaxTime</th>\n",
       "      <th>apparentTemperatureMin</th>\n",
       "      <th>apparentTemperatureMinTime</th>\n",
       "      <th>apparentTemperatureMax</th>\n",
       "      <th>apparentTemperatureMaxTime</th>\n",
       "    </tr>\n",
       "  </thead>\n",
       "  <tbody>\n",
       "    <tr>\n",
       "      <th>0</th>\n",
       "      <td>424553bb-7174-41ea-aeb4-fe06d4f4b9d7</td>\n",
       "      <td>1.544953e+09</td>\n",
       "      <td>9</td>\n",
       "      <td>16</td>\n",
       "      <td>12</td>\n",
       "      <td>2018-12-16 09:30:07</td>\n",
       "      <td>America/New_York</td>\n",
       "      <td>Haymarket Square</td>\n",
       "      <td>North Station</td>\n",
       "      <td>Lyft</td>\n",
       "      <td>...</td>\n",
       "      <td>0.1276</td>\n",
       "      <td>1544979600</td>\n",
       "      <td>39.89</td>\n",
       "      <td>1545012000</td>\n",
       "      <td>43.68</td>\n",
       "      <td>1544968800</td>\n",
       "      <td>33.73</td>\n",
       "      <td>1545012000</td>\n",
       "      <td>38.07</td>\n",
       "      <td>1544958000</td>\n",
       "    </tr>\n",
       "    <tr>\n",
       "      <th>1</th>\n",
       "      <td>4bd23055-6827-41c6-b23b-3c491f24e74d</td>\n",
       "      <td>1.543284e+09</td>\n",
       "      <td>2</td>\n",
       "      <td>27</td>\n",
       "      <td>11</td>\n",
       "      <td>2018-11-27 02:00:23</td>\n",
       "      <td>America/New_York</td>\n",
       "      <td>Haymarket Square</td>\n",
       "      <td>North Station</td>\n",
       "      <td>Lyft</td>\n",
       "      <td>...</td>\n",
       "      <td>0.1300</td>\n",
       "      <td>1543251600</td>\n",
       "      <td>40.49</td>\n",
       "      <td>1543233600</td>\n",
       "      <td>47.30</td>\n",
       "      <td>1543251600</td>\n",
       "      <td>36.20</td>\n",
       "      <td>1543291200</td>\n",
       "      <td>43.92</td>\n",
       "      <td>1543251600</td>\n",
       "    </tr>\n",
       "    <tr>\n",
       "      <th>2</th>\n",
       "      <td>981a3613-77af-4620-a42a-0c0866077d1e</td>\n",
       "      <td>1.543367e+09</td>\n",
       "      <td>1</td>\n",
       "      <td>28</td>\n",
       "      <td>11</td>\n",
       "      <td>2018-11-28 01:00:22</td>\n",
       "      <td>America/New_York</td>\n",
       "      <td>Haymarket Square</td>\n",
       "      <td>North Station</td>\n",
       "      <td>Lyft</td>\n",
       "      <td>...</td>\n",
       "      <td>0.1064</td>\n",
       "      <td>1543338000</td>\n",
       "      <td>35.36</td>\n",
       "      <td>1543377600</td>\n",
       "      <td>47.55</td>\n",
       "      <td>1543320000</td>\n",
       "      <td>31.04</td>\n",
       "      <td>1543377600</td>\n",
       "      <td>44.12</td>\n",
       "      <td>1543320000</td>\n",
       "    </tr>\n",
       "    <tr>\n",
       "      <th>3</th>\n",
       "      <td>c2d88af2-d278-4bfd-a8d0-29ca77cc5512</td>\n",
       "      <td>1.543554e+09</td>\n",
       "      <td>4</td>\n",
       "      <td>30</td>\n",
       "      <td>11</td>\n",
       "      <td>2018-11-30 04:53:02</td>\n",
       "      <td>America/New_York</td>\n",
       "      <td>Haymarket Square</td>\n",
       "      <td>North Station</td>\n",
       "      <td>Lyft</td>\n",
       "      <td>...</td>\n",
       "      <td>0.0000</td>\n",
       "      <td>1543507200</td>\n",
       "      <td>34.67</td>\n",
       "      <td>1543550400</td>\n",
       "      <td>45.03</td>\n",
       "      <td>1543510800</td>\n",
       "      <td>30.30</td>\n",
       "      <td>1543550400</td>\n",
       "      <td>38.53</td>\n",
       "      <td>1543510800</td>\n",
       "    </tr>\n",
       "    <tr>\n",
       "      <th>4</th>\n",
       "      <td>e0126e1f-8ca9-4f2e-82b3-50505a09db9a</td>\n",
       "      <td>1.543463e+09</td>\n",
       "      <td>3</td>\n",
       "      <td>29</td>\n",
       "      <td>11</td>\n",
       "      <td>2018-11-29 03:49:20</td>\n",
       "      <td>America/New_York</td>\n",
       "      <td>Haymarket Square</td>\n",
       "      <td>North Station</td>\n",
       "      <td>Lyft</td>\n",
       "      <td>...</td>\n",
       "      <td>0.0001</td>\n",
       "      <td>1543420800</td>\n",
       "      <td>33.10</td>\n",
       "      <td>1543402800</td>\n",
       "      <td>42.18</td>\n",
       "      <td>1543420800</td>\n",
       "      <td>29.11</td>\n",
       "      <td>1543392000</td>\n",
       "      <td>35.75</td>\n",
       "      <td>1543420800</td>\n",
       "    </tr>\n",
       "  </tbody>\n",
       "</table>\n",
       "<p>5 rows × 57 columns</p>\n",
       "</div>"
      ],
      "text/plain": [
       "                                     id     timestamp  hour  day  month  \\\n",
       "0  424553bb-7174-41ea-aeb4-fe06d4f4b9d7  1.544953e+09     9   16     12   \n",
       "1  4bd23055-6827-41c6-b23b-3c491f24e74d  1.543284e+09     2   27     11   \n",
       "2  981a3613-77af-4620-a42a-0c0866077d1e  1.543367e+09     1   28     11   \n",
       "3  c2d88af2-d278-4bfd-a8d0-29ca77cc5512  1.543554e+09     4   30     11   \n",
       "4  e0126e1f-8ca9-4f2e-82b3-50505a09db9a  1.543463e+09     3   29     11   \n",
       "\n",
       "             datetime          timezone            source    destination  \\\n",
       "0 2018-12-16 09:30:07  America/New_York  Haymarket Square  North Station   \n",
       "1 2018-11-27 02:00:23  America/New_York  Haymarket Square  North Station   \n",
       "2 2018-11-28 01:00:22  America/New_York  Haymarket Square  North Station   \n",
       "3 2018-11-30 04:53:02  America/New_York  Haymarket Square  North Station   \n",
       "4 2018-11-29 03:49:20  America/New_York  Haymarket Square  North Station   \n",
       "\n",
       "  cab_type  ... precipIntensityMax uvIndexTime  temperatureMin  \\\n",
       "0     Lyft  ...             0.1276  1544979600           39.89   \n",
       "1     Lyft  ...             0.1300  1543251600           40.49   \n",
       "2     Lyft  ...             0.1064  1543338000           35.36   \n",
       "3     Lyft  ...             0.0000  1543507200           34.67   \n",
       "4     Lyft  ...             0.0001  1543420800           33.10   \n",
       "\n",
       "   temperatureMinTime  temperatureMax  temperatureMaxTime  \\\n",
       "0          1545012000           43.68          1544968800   \n",
       "1          1543233600           47.30          1543251600   \n",
       "2          1543377600           47.55          1543320000   \n",
       "3          1543550400           45.03          1543510800   \n",
       "4          1543402800           42.18          1543420800   \n",
       "\n",
       "   apparentTemperatureMin  apparentTemperatureMinTime  apparentTemperatureMax  \\\n",
       "0                   33.73                  1545012000                   38.07   \n",
       "1                   36.20                  1543291200                   43.92   \n",
       "2                   31.04                  1543377600                   44.12   \n",
       "3                   30.30                  1543550400                   38.53   \n",
       "4                   29.11                  1543392000                   35.75   \n",
       "\n",
       "  apparentTemperatureMaxTime  \n",
       "0                 1544958000  \n",
       "1                 1543251600  \n",
       "2                 1543320000  \n",
       "3                 1543510800  \n",
       "4                 1543420800  \n",
       "\n",
       "[5 rows x 57 columns]"
      ]
     },
     "execution_count": 2,
     "metadata": {},
     "output_type": "execute_result"
    }
   ],
   "source": [
    "df = pd.read_excel('rideshare.xls')\n",
    "df.head()"
   ]
  },
  {
   "cell_type": "markdown",
   "id": "477fdb74",
   "metadata": {},
   "source": [
    "## EDA"
   ]
  },
  {
   "cell_type": "code",
   "execution_count": 3,
   "id": "5b10334a",
   "metadata": {},
   "outputs": [
    {
     "data": {
      "text/plain": [
       "(11999, 57)"
      ]
     },
     "execution_count": 3,
     "metadata": {},
     "output_type": "execute_result"
    }
   ],
   "source": [
    "# Get shape of the data set\n",
    "df.shape"
   ]
  },
  {
   "cell_type": "code",
   "execution_count": 4,
   "id": "19bcbca8",
   "metadata": {},
   "outputs": [
    {
     "data": {
      "text/plain": [
       "id                               0\n",
       "timestamp                        0\n",
       "hour                             0\n",
       "day                              0\n",
       "month                            0\n",
       "datetime                         0\n",
       "timezone                         0\n",
       "source                           0\n",
       "destination                      0\n",
       "cab_type                         0\n",
       "product_id                       0\n",
       "name                             0\n",
       "price                          931\n",
       "distance                         0\n",
       "surge_multiplier                 0\n",
       "latitude                         0\n",
       "longitude                        0\n",
       "temperature                      0\n",
       "apparentTemperature              0\n",
       "short_summary                    0\n",
       "long_summary                     0\n",
       "precipIntensity                  0\n",
       "precipProbability                0\n",
       "humidity                         0\n",
       "windSpeed                        0\n",
       "windGust                         0\n",
       "windGustTime                     0\n",
       "visibility                       0\n",
       "temperatureHigh                  0\n",
       "temperatureHighTime              0\n",
       "temperatureLow                   0\n",
       "temperatureLowTime               0\n",
       "apparentTemperatureHigh          0\n",
       "apparentTemperatureHighTime      0\n",
       "apparentTemperatureLow           0\n",
       "apparentTemperatureLowTime       0\n",
       "icon                             0\n",
       "dewPoint                         0\n",
       "pressure                         0\n",
       "windBearing                      0\n",
       "cloudCover                       0\n",
       "uvIndex                          0\n",
       "visibility.1                     0\n",
       "ozone                            0\n",
       "sunriseTime                      0\n",
       "sunsetTime                       0\n",
       "moonPhase                        0\n",
       "precipIntensityMax               0\n",
       "uvIndexTime                      0\n",
       "temperatureMin                   0\n",
       "temperatureMinTime               0\n",
       "temperatureMax                   0\n",
       "temperatureMaxTime               0\n",
       "apparentTemperatureMin           0\n",
       "apparentTemperatureMinTime       0\n",
       "apparentTemperatureMax           0\n",
       "apparentTemperatureMaxTime       0\n",
       "dtype: int64"
      ]
     },
     "execution_count": 4,
     "metadata": {},
     "output_type": "execute_result"
    }
   ],
   "source": [
    "# Get number of null values\n",
    "df.isnull().sum()"
   ]
  },
  {
   "cell_type": "code",
   "execution_count": 5,
   "id": "0fc07f81",
   "metadata": {},
   "outputs": [
    {
     "data": {
      "text/plain": [
       "id                             11999\n",
       "timestamp                      10878\n",
       "hour                              24\n",
       "day                               17\n",
       "month                              2\n",
       "datetime                        9253\n",
       "timezone                           1\n",
       "source                            12\n",
       "destination                       12\n",
       "cab_type                           2\n",
       "product_id                        13\n",
       "name                              13\n",
       "price                            101\n",
       "distance                         360\n",
       "surge_multiplier                   6\n",
       "latitude                          11\n",
       "longitude                         12\n",
       "temperature                      308\n",
       "apparentTemperature              319\n",
       "short_summary                      9\n",
       "long_summary                      11\n",
       "precipIntensity                   63\n",
       "precipProbability                 29\n",
       "humidity                          51\n",
       "windSpeed                        291\n",
       "windGust                         286\n",
       "windGustTime                      25\n",
       "visibility                       227\n",
       "temperatureHigh                  129\n",
       "temperatureHighTime               23\n",
       "temperatureLow                   133\n",
       "temperatureLowTime                31\n",
       "apparentTemperatureHigh          124\n",
       "apparentTemperatureHighTime       27\n",
       "apparentTemperatureLow           136\n",
       "apparentTemperatureLowTime        32\n",
       "icon                               7\n",
       "dewPoint                         313\n",
       "pressure                         316\n",
       "windBearing                      195\n",
       "cloudCover                        83\n",
       "uvIndex                            3\n",
       "visibility.1                     227\n",
       "ozone                            274\n",
       "sunriseTime                      110\n",
       "sunsetTime                       114\n",
       "moonPhase                         18\n",
       "precipIntensityMax                65\n",
       "uvIndexTime                       20\n",
       "temperatureMin                   131\n",
       "temperatureMinTime                25\n",
       "temperatureMax                   128\n",
       "temperatureMaxTime                23\n",
       "apparentTemperatureMin           137\n",
       "apparentTemperatureMinTime        29\n",
       "apparentTemperatureMax           125\n",
       "apparentTemperatureMaxTime        27\n",
       "dtype: int64"
      ]
     },
     "execution_count": 5,
     "metadata": {},
     "output_type": "execute_result"
    }
   ],
   "source": [
    "# Number of unique values in each data set\n",
    "df.nunique()"
   ]
  },
  {
   "cell_type": "code",
   "execution_count": 6,
   "id": "b032306d",
   "metadata": {},
   "outputs": [
    {
     "data": {
      "text/plain": [
       "Index(['id', 'timestamp', 'hour', 'day', 'month', 'datetime', 'timezone',\n",
       "       'source', 'destination', 'cab_type', 'product_id', 'name', 'price',\n",
       "       'distance', 'surge_multiplier', 'latitude', 'longitude', 'temperature',\n",
       "       'apparentTemperature', 'short_summary', 'long_summary',\n",
       "       'precipIntensity', 'precipProbability', 'humidity', 'windSpeed',\n",
       "       'windGust', 'windGustTime', 'visibility', 'temperatureHigh',\n",
       "       'temperatureHighTime', 'temperatureLow', 'temperatureLowTime',\n",
       "       'apparentTemperatureHigh', 'apparentTemperatureHighTime',\n",
       "       'apparentTemperatureLow', 'apparentTemperatureLowTime', 'icon',\n",
       "       'dewPoint', 'pressure', 'windBearing', 'cloudCover', 'uvIndex',\n",
       "       'visibility.1', 'ozone', 'sunriseTime', 'sunsetTime', 'moonPhase',\n",
       "       'precipIntensityMax', 'uvIndexTime', 'temperatureMin',\n",
       "       'temperatureMinTime', 'temperatureMax', 'temperatureMaxTime',\n",
       "       'apparentTemperatureMin', 'apparentTemperatureMinTime',\n",
       "       'apparentTemperatureMax', 'apparentTemperatureMaxTime'],\n",
       "      dtype='object')"
      ]
     },
     "execution_count": 6,
     "metadata": {},
     "output_type": "execute_result"
    }
   ],
   "source": [
    "# Get column names\n",
    "df.columns"
   ]
  },
  {
   "cell_type": "markdown",
   "id": "d66ad78d",
   "metadata": {},
   "source": [
    "# Data Visualization"
   ]
  },
  {
   "cell_type": "markdown",
   "id": "082133fb",
   "metadata": {},
   "source": [
    "# Preprocessing Pipeline"
   ]
  },
  {
   "cell_type": "markdown",
   "id": "4944ed68",
   "metadata": {},
   "source": [
    "- Drop unneeded columns\n",
    "- Encode categorical columns\n",
    "- Impute price column:\n",
    "    - <strong>Remove column</strong> = Losing potential data values but also means that we aren't guessing the price"
   ]
  },
  {
   "cell_type": "code",
   "execution_count": 7,
   "id": "41c4bb05",
   "metadata": {},
   "outputs": [],
   "source": [
    "# Define drop columns\n",
    "drop = ['id', 'hour', 'day', 'month', 'timezone', 'timestamp', 'latitude', 'longitude', 'product_id', \n",
    "        'uvIndexTime', 'short_summary']\n",
    "\n",
    "# Add all columns with Time measurements -> we only need one time measurement\n",
    "for cols in df.columns:\n",
    "    if \"Time\" in cols:\n",
    "        drop.append(cols)"
   ]
  },
  {
   "cell_type": "code",
   "execution_count": 8,
   "id": "41ff3a4a",
   "metadata": {},
   "outputs": [],
   "source": [
    "# Drop columns\n",
    "df = df.drop(drop,axis=1)\n",
    "df = df.dropna()"
   ]
  },
  {
   "cell_type": "code",
   "execution_count": 10,
   "id": "5d0ce819",
   "metadata": {},
   "outputs": [],
   "source": [
    "# Define categorical columns to process\n",
    "cat_cols = ['source', 'destination', 'cab_type', 'name', 'short_summary', 'moonPhase']\n",
    "\n",
    "# Create ColumnTransformer to apply different processing steps for categorical columns\n",
    "preprocessing_steps = [('encoding', LabelEncoder(), cat_cols)]\n",
    "\n",
    "transformer = ColumnTransformer(transformers=preprocessing_steps)"
   ]
  },
  {
   "cell_type": "code",
   "execution_count": 12,
   "id": "698a6d58",
   "metadata": {},
   "outputs": [],
   "source": [
    "# Create two seperate dataframes (Uber & Lyft) for further analysis later on "
   ]
  },
  {
   "cell_type": "markdown",
   "id": "0c782952",
   "metadata": {},
   "source": [
    "# ML Implementation"
   ]
  },
  {
   "cell_type": "markdown",
   "id": "01d2285d",
   "metadata": {},
   "source": [
    "## Overview"
   ]
  },
  {
   "cell_type": "markdown",
   "id": "cb3e8cb7",
   "metadata": {},
   "source": [
    "<strong>Executive Summary:</strong> I'd like to take the various inputs using various Regression models to try and predict the price of an Uber and Lyft. Using the same variables, I'd like to create seperate regression models for these two rideshare companies to analyze how their pricing model works. By analyzing their pricing models, we can determine if one company or the other unfairly prices customers."
   ]
  },
  {
   "cell_type": "code",
   "execution_count": null,
   "id": "f2ebc4de",
   "metadata": {},
   "outputs": [],
   "source": [
    "# Extract features and target variables"
   ]
  },
  {
   "cell_type": "code",
   "execution_count": null,
   "id": "4bc3843c",
   "metadata": {},
   "outputs": [],
   "source": [
    "# Split dataset into test and train values"
   ]
  },
  {
   "cell_type": "code",
   "execution_count": 11,
   "id": "8d139c38",
   "metadata": {},
   "outputs": [
    {
     "ename": "NameError",
     "evalue": "name 'X' is not defined",
     "output_type": "error",
     "traceback": [
      "\u001b[0;31m---------------------------------------------------------------------------\u001b[0m",
      "\u001b[0;31mNameError\u001b[0m                                 Traceback (most recent call last)",
      "\u001b[0;32m/var/folders/ht/ljrb1cwj3xg1_7ttyxw6hfj40000gn/T/ipykernel_66508/1933877842.py\u001b[0m in \u001b[0;36m<module>\u001b[0;34m\u001b[0m\n\u001b[1;32m      1\u001b[0m \u001b[0;31m# Fitting and transforming the data\u001b[0m\u001b[0;34m\u001b[0m\u001b[0;34m\u001b[0m\u001b[0m\n\u001b[0;32m----> 2\u001b[0;31m \u001b[0mtransformed_data\u001b[0m \u001b[0;34m=\u001b[0m \u001b[0mtransformer\u001b[0m\u001b[0;34m.\u001b[0m\u001b[0mfit_transform\u001b[0m\u001b[0;34m(\u001b[0m\u001b[0mX\u001b[0m\u001b[0;34m)\u001b[0m\u001b[0;34m\u001b[0m\u001b[0;34m\u001b[0m\u001b[0m\n\u001b[0m",
      "\u001b[0;31mNameError\u001b[0m: name 'X' is not defined"
     ]
    }
   ],
   "source": [
    "# Fit and transform test and train data on ColumnTransformer\n",
    "transformed_data = transformer.fit_transform(X)"
   ]
  }
 ],
 "metadata": {
  "kernelspec": {
   "display_name": "Python 3 (ipykernel)",
   "language": "python",
   "name": "python3"
  },
  "language_info": {
   "codemirror_mode": {
    "name": "ipython",
    "version": 3
   },
   "file_extension": ".py",
   "mimetype": "text/x-python",
   "name": "python",
   "nbconvert_exporter": "python",
   "pygments_lexer": "ipython3",
   "version": "3.9.13"
  }
 },
 "nbformat": 4,
 "nbformat_minor": 5
}
